{
  "nbformat": 4,
  "nbformat_minor": 0,
  "metadata": {
    "colab": {
      "provenance": [],
      "authorship_tag": "ABX9TyNAEPbOh2w2Ii/xJnP8FTD4"
    },
    "kernelspec": {
      "name": "python3",
      "display_name": "Python 3"
    },
    "language_info": {
      "name": "python"
    }
  },
  "cells": [
    {
      "cell_type": "code",
      "execution_count": 3,
      "metadata": {
        "colab": {
          "base_uri": "https://localhost:8080/"
        },
        "id": "1V-Q_K3N8-Xc",
        "outputId": "86a7a341-1e0a-49ea-a712-7a16e0c32aa9"
      },
      "outputs": [
        {
          "output_type": "stream",
          "name": "stderr",
          "text": [
            "[nltk_data] Downloading package punkt to /root/nltk_data...\n",
            "[nltk_data]   Package punkt is already up-to-date!\n"
          ]
        },
        {
          "output_type": "stream",
          "name": "stdout",
          "text": [
            "No misspelled words found.\n"
          ]
        }
      ],
      "source": [
        "from bs4 import BeautifulSoup\n",
        "import requests\n",
        "from textblob import TextBlob\n",
        "import nltk\n",
        "\n",
        "nltk.download('punkt')\n",
        "\n",
        "url = \"https://www.gutenberg.org/cache/epub/23046/pg23046-images.html\"\n",
        "response = requests.get(url)\n",
        "html_content = response.text\n",
        "\n",
        "soup = BeautifulSoup(html_content, \"html.parser\")\n",
        "\n",
        "text = soup.get_text()\n",
        "\n",
        "blob = TextBlob(text)\n",
        "\n",
        "words = blob.words\n",
        "\n",
        "misspelled_words = []\n",
        "\n",
        "for word in words:\n",
        "    if word.isalpha() and not word.correct():\n",
        "        misspelled_words.append((word, word.correct()))\n",
        "\n",
        "if misspelled_words:\n",
        "    print(\"Misspelled words and their corrections:\")\n",
        "    for misspelled_word, correction in misspelled_words:\n",
        "        print(f\"{misspelled_word} -> {correction}\")\n",
        "else:\n",
        "    print(\"No misspelled words found.\")\n"
      ]
    }
  ]
}