{
  "nbformat": 4,
  "nbformat_minor": 0,
  "metadata": {
    "colab": {
      "provenance": [],
      "authorship_tag": "ABX9TyNzC+EKqhk9p3J4a+l9cljx"
    },
    "kernelspec": {
      "name": "python3",
      "display_name": "Python 3"
    },
    "language_info": {
      "name": "python"
    }
  },
  "cells": [
    {
      "cell_type": "code",
      "execution_count": 3,
      "metadata": {
        "colab": {
          "base_uri": "https://localhost:8080/"
        },
        "id": "RGJbigR3NyeY",
        "outputId": "0aba8a06-d2c5-49ac-b58c-954f0b33b31a"
      },
      "outputs": [
        {
          "output_type": "stream",
          "name": "stdout",
          "text": [
            "Accuracy without PCA: 0.9164\n",
            "Time without PCA: 249.77 seconds\n",
            "Accuracy with PCA: 0.9216\n",
            "Time with PCA: 103.27 seconds\n"
          ]
        }
      ],
      "source": [
        "from sklearn.datasets import fetch_openml\n",
        "from sklearn.model_selection import train_test_split\n",
        "from sklearn.preprocessing import StandardScaler\n",
        "from sklearn.decomposition import PCA\n",
        "from sklearn.linear_model import LogisticRegression\n",
        "from sklearn.metrics import accuracy_score\n",
        "import time\n",
        "\n",
        "mnist = fetch_openml('mnist_784', parser='auto')\n",
        "\n",
        "\n",
        "X_train, X_test, y_train, y_test = train_test_split(mnist.data, mnist.target, test_size=0.2, random_state=42)\n",
        "\n",
        "scaler = StandardScaler()\n",
        "X_train_scaled = scaler.fit_transform(X_train)\n",
        "X_test_scaled = scaler.transform(X_test)\n",
        "\n",
        "pca = PCA(n_components=0.95)\n",
        "X_train_pca = pca.fit_transform(X_train_scaled)\n",
        "X_test_pca = pca.transform(X_test_scaled)\n",
        "\n",
        "start_time = time.time()\n",
        "logisticRegr = LogisticRegression(solver='lbfgs', max_iter=1000)\n",
        "logisticRegr.fit(X_train_scaled, y_train)\n",
        "y_pred = logisticRegr.predict(X_test_scaled)\n",
        "accuracy_no_pca = accuracy_score(y_test, y_pred)\n",
        "time_no_pca = time.time() - start_time\n",
        "\n",
        "start_time = time.time()\n",
        "logisticRegr_pca = LogisticRegression(solver='lbfgs', max_iter=1000)\n",
        "logisticRegr_pca.fit(X_train_pca, y_train)\n",
        "y_pred_pca = logisticRegr_pca.predict(X_test_pca)\n",
        "accuracy_pca = accuracy_score(y_test, y_pred_pca)\n",
        "time_pca = time.time() - start_time\n",
        "\n",
        "print(\"Accuracy without PCA: {:.4f}\".format(accuracy_no_pca))\n",
        "print(\"Time without PCA: {:.2f} seconds\".format(time_no_pca))\n",
        "print(\"Accuracy with PCA: {:.4f}\".format(accuracy_pca))\n",
        "print(\"Time with PCA: {:.2f} seconds\".format(time_pca))\n"
      ]
    }
  ]
}