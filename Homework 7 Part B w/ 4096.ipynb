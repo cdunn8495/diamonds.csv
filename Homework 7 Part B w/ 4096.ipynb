{
  "nbformat": 4,
  "nbformat_minor": 0,
  "metadata": {
    "colab": {
      "provenance": [],
      "authorship_tag": "ABX9TyNIK6gAMXb/OAElkTlJHS9b"
    },
    "kernelspec": {
      "name": "python3",
      "display_name": "Python 3"
    },
    "language_info": {
      "name": "python"
    }
  },
  "cells": [
    {
      "cell_type": "code",
      "execution_count": null,
      "metadata": {
        "colab": {
          "base_uri": "https://localhost:8080/"
        },
        "id": "R3t0h_xoHrKl",
        "outputId": "165f8bd7-4db1-4a84-d623-fc0e92c5cd12"
      },
      "outputs": [
        {
          "output_type": "stream",
          "name": "stdout",
          "text": [
            "Epoch 1/5\n",
            "428/844 [==============>...............] - ETA: 7:51 - loss: 0.1813 - accuracy: 0.9431"
          ]
        }
      ],
      "source": [
        "import tensorflow as tf\n",
        "import numpy as np\n",
        "import matplotlib.pyplot as plt\n",
        "\n",
        "# Load the MNIST dataset\n",
        "mnist = tf.keras.datasets.mnist\n",
        "(X_train, y_train), (X_test, y_test) = mnist.load_data()\n",
        "\n",
        "# Normalize pixel values to be between 0 and 1\n",
        "X_train, X_test = X_train / 255.0, X_test / 255.0\n",
        "\n",
        "# Add a channel dimension (for convolutional layers)\n",
        "X_train = X_train.reshape(X_train.shape[0], 28, 28, 1)\n",
        "X_test = X_test.reshape(X_test.shape[0], 28, 28, 1)\n",
        "\n",
        "# Convert labels to one-hot encoding\n",
        "y_train = tf.keras.utils.to_categorical(y_train, 10)\n",
        "y_test = tf.keras.utils.to_categorical(y_test, 10)\n",
        "\n",
        "# Define the model architecture with an additional Dense layer\n",
        "cnn = tf.keras.models.Sequential([\n",
        "    tf.keras.layers.Conv2D(64, kernel_size=(3, 3), activation='relu', input_shape=(28, 28, 1)),\n",
        "    tf.keras.layers.MaxPooling2D(pool_size=(2, 2)),\n",
        "    tf.keras.layers.Flatten(),\n",
        "    tf.keras.layers.Dense(4096, activation='relu'),  # Additional Dense layer\n",
        "    tf.keras.layers.Dense(128, activation='relu'),\n",
        "    tf.keras.layers.Dense(10, activation='softmax')\n",
        "])\n",
        "\n",
        "# Compile the model\n",
        "cnn.compile(optimizer='adam',\n",
        "            loss='categorical_crossentropy',\n",
        "            metrics=['accuracy'])\n",
        "\n",
        "# Training and evaluating the model\n",
        "cnn.fit(X_train, y_train, epochs=5, batch_size=64, validation_split=0.1)\n",
        "\n",
        "# Evaluate the model on test data\n",
        "loss, accuracy = cnn.evaluate(X_test, y_test)\n",
        "print(\"Test Loss:\", loss)\n",
        "print(\"Test Accuracy:\", accuracy)\n",
        "\n",
        "# Making predictions\n",
        "predictions = cnn.predict(X_test)\n",
        "\n",
        "# Locate incorrect predictions\n",
        "images = X_test.reshape((10000, 28, 28))\n",
        "incorrect_predictions = []\n",
        "for i, (p, e) in enumerate(zip(predictions, y_test)):\n",
        "    predicted, expected = np.argmax(p), np.argmax(e)\n",
        "    if predicted != expected:\n",
        "        incorrect_predictions.append((i, images[i], predicted, expected))\n",
        "\n",
        "# Visualizing incorrect predictions\n",
        "print(\"Number of incorrect predictions:\", len(incorrect_predictions))\n",
        "figure, axes = plt.subplots(nrows=4, ncols=6, figsize=(16, 12))\n",
        "for axes, item in zip(axes.ravel(), incorrect_predictions[:24]):\n",
        "    index, image, predicted, expected = item\n",
        "    axes.imshow(image, cmap=plt.cm.gray_r)\n",
        "    axes.set_xticks([])  # remove x-axis tick marks\n",
        "    axes.set_yticks([])  # remove y-axis tick marks\n",
        "    axes.set_title(f'index: {index}\\np: {predicted}; e: {expected}')\n",
        "plt.tight_layout()\n",
        "\n",
        "# Displaying the probabilities for several incorrect predictions\n",
        "def display_probabilities(prediction):\n",
        "    for index, probability in enumerate(prediction):\n",
        "        print(f'{index}: {probability:.10%}')\n",
        "\n",
        "print(\"Probabilities for some incorrect predictions:\")\n",
        "for i in range(3):\n",
        "    display_probabilities(predictions[incorrect_predictions[i][0]])\n"
      ]
    }
  ]
}